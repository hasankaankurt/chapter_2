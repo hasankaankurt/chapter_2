{
 "cells": [
  {
   "cell_type": "code",
   "id": "initial_id",
   "metadata": {
    "collapsed": true,
    "ExecuteTime": {
     "end_time": "2025-03-31T11:38:39.517962Z",
     "start_time": "2025-03-31T11:38:39.438802Z"
    }
   },
   "source": [
    "import numpy as np\n",
    "random_integers = np.random.randint(1, 1_000_000, 1_000_000)"
   ],
   "outputs": [],
   "execution_count": 1
  },
  {
   "metadata": {
    "ExecuteTime": {
     "end_time": "2025-03-31T11:39:00.300272Z",
     "start_time": "2025-03-31T11:39:00.297673Z"
    }
   },
   "cell_type": "code",
   "source": [
    "def slow_way_to_calculate_mode(list_of_numbers):\n",
    "    result_dict = {}\n",
    "    \n",
    "    for i in list_of_numbers:\n",
    "        if i not in result_dict:\n",
    "            result_dict[i] = 1\n",
    "        else:\n",
    "            result_dict[i] += 1\n",
    "\n",
    "    mode_vals = []\n",
    "    max_frequency = max(result_dict.values())\n",
    "\n",
    "    for key, value in result_dict.items():\n",
    "        if value == max_frequency:\n",
    "            mode_vals.append(key)\n",
    "\n",
    "    return mode_vals"
   ],
   "id": "8e0763935973b570",
   "outputs": [],
   "execution_count": 3
  },
  {
   "metadata": {
    "ExecuteTime": {
     "end_time": "2025-03-31T11:38:48.852462Z",
     "start_time": "2025-03-31T11:38:48.848398Z"
    }
   },
   "cell_type": "code",
   "outputs": [],
   "execution_count": 2,
   "source": [
    "from collections import Counter\n",
    "\n",
    "def mode_using_counter(list_of_numbers):\n",
    "    c = Counter(list_of_numbers)\n",
    "    return c.most_common(1)[0][0]"
   ],
   "id": "793d787f4c449027"
  },
  {
   "metadata": {
    "ExecuteTime": {
     "end_time": "2025-03-31T11:39:26.165508Z",
     "start_time": "2025-03-31T11:39:13.894444Z"
    }
   },
   "cell_type": "code",
   "source": [
    "%%timeit \n",
    "slow_way_to_calculate_mode(random_integers)"
   ],
   "id": "9e7afd7b7f91efea",
   "outputs": [
    {
     "name": "stdout",
     "output_type": "stream",
     "text": [
      "150 ms ± 2.65 ms per loop (mean ± std. dev. of 7 runs, 10 loops each)\n"
     ]
    }
   ],
   "execution_count": 4
  },
  {
   "metadata": {
    "ExecuteTime": {
     "end_time": "2025-03-31T11:39:38.072199Z",
     "start_time": "2025-03-31T11:39:27.376571Z"
    }
   },
   "cell_type": "code",
   "source": [
    "%%timeit \n",
    "mode_using_counter(random_integers)"
   ],
   "id": "52e9404cadfc602",
   "outputs": [
    {
     "name": "stdout",
     "output_type": "stream",
     "text": [
      "131 ms ± 3.69 ms per loop (mean ± std. dev. of 7 runs, 10 loops each)\n"
     ]
    }
   ],
   "execution_count": 5
  }
 ],
 "metadata": {
  "kernelspec": {
   "display_name": "Python 3",
   "language": "python",
   "name": "python3"
  },
  "language_info": {
   "codemirror_mode": {
    "name": "ipython",
    "version": 2
   },
   "file_extension": ".py",
   "mimetype": "text/x-python",
   "name": "python",
   "nbconvert_exporter": "python",
   "pygments_lexer": "ipython2",
   "version": "2.7.6"
  }
 },
 "nbformat": 4,
 "nbformat_minor": 5
}
