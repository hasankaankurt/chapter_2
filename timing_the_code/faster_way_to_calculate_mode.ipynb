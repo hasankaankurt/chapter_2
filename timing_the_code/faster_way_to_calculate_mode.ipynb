{
 "cells": [
  {
   "cell_type": "code",
   "id": "initial_id",
   "metadata": {
    "collapsed": true,
    "ExecuteTime": {
     "end_time": "2025-03-31T06:19:55.201065Z",
     "start_time": "2025-03-31T06:19:55.196780Z"
    }
   },
   "source": [
    "from collections import Counter\n",
    "\n",
    "def mode_using_counter(list_of_numbers):\n",
    "    c = Counter(list_of_numbers)\n",
    "    return c.most_common(1)[0][0]"
   ],
   "outputs": [],
   "execution_count": 5
  },
  {
   "metadata": {
    "ExecuteTime": {
     "end_time": "2025-03-31T06:19:55.479707Z",
     "start_time": "2025-03-31T06:19:55.468436Z"
    }
   },
   "cell_type": "code",
   "source": [
    "import numpy as np\n",
    "random_integers = np.random.randint(1, 1_000_000, 1_000_000)"
   ],
   "id": "c1da25d263b0075c",
   "outputs": [],
   "execution_count": 6
  },
  {
   "metadata": {
    "ExecuteTime": {
     "end_time": "2025-03-31T06:19:55.916772Z",
     "start_time": "2025-03-31T06:19:55.763660Z"
    }
   },
   "cell_type": "code",
   "source": [
    "import time\n",
    "start = time.time()\n",
    "mode_using_counter(random_integers)\n",
    "end = time.time()\n",
    "print(end-start)"
   ],
   "id": "75f25bb861a53b59",
   "outputs": [
    {
     "name": "stdout",
     "output_type": "stream",
     "text": [
      "0.15032505989074707\n"
     ]
    }
   ],
   "execution_count": 7
  }
 ],
 "metadata": {
  "kernelspec": {
   "display_name": "Python 3",
   "language": "python",
   "name": "python3"
  },
  "language_info": {
   "codemirror_mode": {
    "name": "ipython",
    "version": 2
   },
   "file_extension": ".py",
   "mimetype": "text/x-python",
   "name": "python",
   "nbconvert_exporter": "python",
   "pygments_lexer": "ipython2",
   "version": "2.7.6"
  }
 },
 "nbformat": 4,
 "nbformat_minor": 5
}
