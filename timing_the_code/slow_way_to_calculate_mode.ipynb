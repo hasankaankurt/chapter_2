{
 "cells": [
  {
   "cell_type": "code",
   "id": "initial_id",
   "metadata": {
    "collapsed": true,
    "ExecuteTime": {
     "end_time": "2025-03-31T06:09:12.813388Z",
     "start_time": "2025-03-31T06:09:12.809359Z"
    }
   },
   "source": [
    "def slow_way_to_calculate_mode(list_of_numbers):\n",
    "    result_dict = {}\n",
    "    \n",
    "    for i in list_of_numbers:\n",
    "        if i not in result_dict:\n",
    "            result_dict[i] = 1\n",
    "        else:\n",
    "            result_dict[i] += 1\n",
    "\n",
    "    mode_vals = []\n",
    "    max_frequency = max(result_dict.values())\n",
    "\n",
    "    for key, value in result_dict.items():\n",
    "        if value == max_frequency:\n",
    "            mode_vals.append(key)\n",
    "\n",
    "    return mode_vals"
   ],
   "outputs": [],
   "execution_count": 1
  },
  {
   "metadata": {
    "ExecuteTime": {
     "end_time": "2025-03-31T06:09:46.587476Z",
     "start_time": "2025-03-31T06:09:46.416238Z"
    }
   },
   "cell_type": "code",
   "source": [
    "import numpy as np\n",
    "random_integers = np.random.randint(1, 1_000_000, 1_000_000)"
   ],
   "id": "8c41c7d51b8deb6c",
   "outputs": [],
   "execution_count": 3
  },
  {
   "metadata": {
    "ExecuteTime": {
     "end_time": "2025-03-31T06:12:16.840269Z",
     "start_time": "2025-03-31T06:12:16.660472Z"
    }
   },
   "cell_type": "code",
   "source": [
    "import time\n",
    "start = time.time()\n",
    "slow_way_to_calculate_mode(random_integers)\n",
    "end = time.time()\n",
    "print(end-start)"
   ],
   "id": "39f04c9651c70c89",
   "outputs": [
    {
     "name": "stdout",
     "output_type": "stream",
     "text": [
      "0.17490100860595703\n"
     ]
    }
   ],
   "execution_count": 7
  }
 ],
 "metadata": {
  "kernelspec": {
   "display_name": "Python 3",
   "language": "python",
   "name": "python3"
  },
  "language_info": {
   "codemirror_mode": {
    "name": "ipython",
    "version": 2
   },
   "file_extension": ".py",
   "mimetype": "text/x-python",
   "name": "python",
   "nbconvert_exporter": "python",
   "pygments_lexer": "ipython2",
   "version": "2.7.6"
  }
 },
 "nbformat": 4,
 "nbformat_minor": 5
}
