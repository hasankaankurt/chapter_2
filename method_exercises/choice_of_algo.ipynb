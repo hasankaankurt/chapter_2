{
 "cells": [
  {
   "cell_type": "code",
   "id": "initial_id",
   "metadata": {
    "ExecuteTime": {
     "end_time": "2025-03-31T18:16:07.836977Z",
     "start_time": "2025-03-31T18:16:07.833900Z"
    }
   },
   "source": [
    "numbers = [1, 2, 3, 4, 5, 6, 7, 8, 9, 10]\n",
    "\n",
    "# First loop to collect evens\n",
    "evens = [num for num in numbers if num % 2 == 0]\n",
    "\n",
    "# Second loop to calculate sum and count\n",
    "total = 0\n",
    "count = 0\n",
    "for even in evens:\n",
    "    total += even\n",
    "    count += 1\n",
    "    \n",
    "print(f\"Sum: {total}, Count: {count}\")"
   ],
   "outputs": [
    {
     "name": "stdout",
     "output_type": "stream",
     "text": [
      "Sum: 30, Count: 5\n"
     ]
    }
   ],
   "execution_count": 1
  }
 ],
 "metadata": {
  "kernelspec": {
   "display_name": "Python 3 (ipykernel)",
   "language": "python",
   "name": "python3"
  },
  "language_info": {
   "codemirror_mode": {
    "name": "ipython",
    "version": 3
   },
   "file_extension": ".py",
   "mimetype": "text/x-python",
   "name": "python",
   "nbconvert_exporter": "python",
   "pygments_lexer": "ipython3",
   "version": "3.12.2"
  }
 },
 "nbformat": 4,
 "nbformat_minor": 5
}
