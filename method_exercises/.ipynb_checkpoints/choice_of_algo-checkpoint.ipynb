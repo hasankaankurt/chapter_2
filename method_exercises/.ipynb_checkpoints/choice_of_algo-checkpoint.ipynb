{
 "cells": [
  {
   "cell_type": "code",
   "id": "initial_id",
   "metadata": {
    "ExecuteTime": {
     "end_time": "2025-03-31T05:14:58.433656Z",
     "start_time": "2025-03-31T05:14:58.188786Z"
    }
   },
   "source": [
    "numbers = [1, 2, 3, 4, 5, 6, 7, 8, 9, 10]\n",
    "\n",
    "# First loop to collect evens\n",
    "evens = [num for num in numbers if num % 2 == 0]\n",
    "\n",
    "# Second loop to calculate sum and count\n",
    "count = len(evens)\n",
    "\n",
    "total=0\n",
    "for even in evens:\n",
    "    total += even\n",
    "    \n",
    "print(f\"Sum: {total_sum}, Count: {count}\")"
   ],
   "outputs": [
    {
     "ename": "TypeError",
     "evalue": "'int' object is not subscriptable",
     "output_type": "error",
     "traceback": [
      "\u001B[0;31m---------------------------------------------------------------------------\u001B[0m",
      "\u001B[0;31mTypeError\u001B[0m                                 Traceback (most recent call last)",
      "Cell \u001B[0;32mIn[2], line 12\u001B[0m\n\u001B[1;32m     10\u001B[0m a\u001B[38;5;241m=\u001B[39m\u001B[38;5;241m0\u001B[39m\n\u001B[1;32m     11\u001B[0m \u001B[38;5;28;01mfor\u001B[39;00m even \u001B[38;5;129;01min\u001B[39;00m evens:\n\u001B[0;32m---> 12\u001B[0m     even_sum \u001B[38;5;241m=\u001B[39m even[a] \u001B[38;5;241m+\u001B[39m \u001B[38;5;241m0\u001B[39m\n\u001B[1;32m     13\u001B[0m     a\u001B[38;5;241m+\u001B[39m\u001B[38;5;241m=\u001B[39m\u001B[38;5;241m1\u001B[39m\n\u001B[1;32m     15\u001B[0m \u001B[38;5;28mprint\u001B[39m(\u001B[38;5;124mf\u001B[39m\u001B[38;5;124m\"\u001B[39m\u001B[38;5;124mSum: \u001B[39m\u001B[38;5;132;01m{\u001B[39;00mtotal_sum\u001B[38;5;132;01m}\u001B[39;00m\u001B[38;5;124m, Count: \u001B[39m\u001B[38;5;132;01m{\u001B[39;00mcount\u001B[38;5;132;01m}\u001B[39;00m\u001B[38;5;124m\"\u001B[39m)\n",
      "\u001B[0;31mTypeError\u001B[0m: 'int' object is not subscriptable"
     ]
    }
   ],
   "execution_count": 2
  },
  {
   "metadata": {},
   "cell_type": "code",
   "outputs": [],
   "execution_count": null,
   "source": "",
   "id": "f52b901046d19ec4"
  }
 ],
 "metadata": {
  "kernelspec": {
   "display_name": "Python 3 (ipykernel)",
   "language": "python",
   "name": "python3"
  },
  "language_info": {
   "codemirror_mode": {
    "name": "ipython",
    "version": 3
   },
   "file_extension": ".py",
   "mimetype": "text/x-python",
   "name": "python",
   "nbconvert_exporter": "python",
   "pygments_lexer": "ipython3",
   "version": "3.12.2"
  }
 },
 "nbformat": 4,
 "nbformat_minor": 5
}
