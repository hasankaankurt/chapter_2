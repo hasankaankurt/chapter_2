{
 "cells": [
  {
   "cell_type": "code",
   "id": "initial_id",
   "metadata": {
    "collapsed": true,
    "ExecuteTime": {
     "end_time": "2025-03-31T17:22:37.804894Z",
     "start_time": "2025-03-31T17:22:37.735592Z"
    }
   },
   "source": [
    "from collections import Counter\n",
    "import numpy as np\n",
    "random_integers = np.random.randint(1, 1_000_000, 1_000_000)\n",
    "\n",
    "def mode_using_counter(list_of_numbers):\n",
    "    c = Counter(list_of_numbers)\n",
    "    return c.most_common(1)[0][0]"
   ],
   "outputs": [],
   "execution_count": 1
  },
  {
   "metadata": {
    "ExecuteTime": {
     "end_time": "2025-03-31T17:24:34.809709Z",
     "start_time": "2025-03-31T17:24:34.653031Z"
    }
   },
   "cell_type": "code",
   "source": [
    "%reload_ext line_profiler\n",
    "\n",
    "%lprun -f mode_using_counter mode_using_counter(random_integers)"
   ],
   "id": "e128584852932b4d",
   "outputs": [],
   "execution_count": 4
  },
  {
   "metadata": {},
   "cell_type": "code",
   "outputs": [],
   "execution_count": null,
   "source": "",
   "id": "f2fdb755be37c32c"
  }
 ],
 "metadata": {
  "kernelspec": {
   "display_name": "Python 3",
   "language": "python",
   "name": "python3"
  },
  "language_info": {
   "codemirror_mode": {
    "name": "ipython",
    "version": 2
   },
   "file_extension": ".py",
   "mimetype": "text/x-python",
   "name": "python",
   "nbconvert_exporter": "python",
   "pygments_lexer": "ipython2",
   "version": "2.7.6"
  }
 },
 "nbformat": 4,
 "nbformat_minor": 5
}
