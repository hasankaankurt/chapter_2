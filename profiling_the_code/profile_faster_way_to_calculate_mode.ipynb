{
 "cells": [
  {
   "cell_type": "code",
   "id": "initial_id",
   "metadata": {
    "collapsed": true,
    "ExecuteTime": {
     "end_time": "2025-03-31T16:53:51.112543Z",
     "start_time": "2025-03-31T16:53:51.104924Z"
    }
   },
   "source": [
    "from collections import Counter\n",
    "import numpy as np\n",
    "random_integers = np.random.randint(1, 1_000_000, 1_000_000)\n",
    "\n",
    "def mode_using_counter(list_of_numbers):\n",
    "    c = Counter(list_of_numbers)\n",
    "    return c.most_common(1)[0][0]"
   ],
   "outputs": [],
   "execution_count": 2
  },
  {
   "metadata": {
    "ExecuteTime": {
     "end_time": "2025-03-31T16:55:34.788936Z",
     "start_time": "2025-03-31T16:55:34.646239Z"
    }
   },
   "cell_type": "code",
   "source": [
    "%%prun\n",
    "\n",
    "mode_using_counter(random_integers)"
   ],
   "id": "a4bad8093d7becd6",
   "outputs": [
    {
     "name": "stdout",
     "output_type": "stream",
     "text": [
      " "
     ]
    }
   ],
   "execution_count": 6
  }
 ],
 "metadata": {
  "kernelspec": {
   "display_name": "Python 3",
   "language": "python",
   "name": "python3"
  },
  "language_info": {
   "codemirror_mode": {
    "name": "ipython",
    "version": 2
   },
   "file_extension": ".py",
   "mimetype": "text/x-python",
   "name": "python",
   "nbconvert_exporter": "python",
   "pygments_lexer": "ipython2",
   "version": "2.7.6"
  }
 },
 "nbformat": 4,
 "nbformat_minor": 5
}
