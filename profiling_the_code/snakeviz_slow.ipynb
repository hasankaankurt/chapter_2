{
 "cells": [
  {
   "cell_type": "code",
   "id": "initial_id",
   "metadata": {
    "collapsed": true,
    "ExecuteTime": {
     "end_time": "2025-03-31T17:05:58.438688Z",
     "start_time": "2025-03-31T17:05:58.356191Z"
    }
   },
   "source": [
    "import numpy as np\n",
    "random_integers = np.random.randint(1, 1_000_000, 1_000_000)\n",
    "\n",
    "def slow_way_to_calculate_mode(list_of_numbers):\n",
    "    result_dict = {}\n",
    "    \n",
    "    for i in list_of_numbers:\n",
    "        if i not in result_dict:\n",
    "            result_dict[i] = 1\n",
    "        else:\n",
    "            result_dict[i] += 1\n",
    "\n",
    "    mode_vals = []\n",
    "    max_frequency = max(result_dict.values())\n",
    "\n",
    "    for key, value in result_dict.items():\n",
    "        if value == max_frequency:\n",
    "            mode_vals.append(key)\n",
    "\n",
    "    return mode_vals"
   ],
   "outputs": [],
   "execution_count": 1
  },
  {
   "metadata": {
    "ExecuteTime": {
     "end_time": "2025-03-31T17:07:07.097216Z",
     "start_time": "2025-03-31T17:07:03.544610Z"
    }
   },
   "cell_type": "code",
   "source": [
    "%reload_ext snakeviz\n",
    "\n",
    "%snakeviz\n",
    "\n",
    "slow_way_to_calculate_mode(random_integers)"
   ],
   "id": "ed29d80bd188478",
   "outputs": [
    {
     "name": "stdout",
     "output_type": "stream",
     "text": [
      " \n",
      "*** Profile stats marshalled to file '/var/folders/f2/1t0v91053vvbyc7r7gdgkjg40000gn/T/tmp9qri3sz6'.\n",
      "Embedding SnakeViz in this document...\n",
      "<function display at 0x10684d6c0>\n"
     ]
    },
    {
     "data": {
      "text/plain": [
       "<IPython.core.display.HTML object>"
      ],
      "text/html": [
       "\n",
       "<iframe id='snakeviz-91772df4-0e52-11f0-8d52-e27021d78ca7' frameborder=0 seamless width='100%' height='1000'></iframe>\n",
       "<script>document.getElementById(\"snakeviz-91772df4-0e52-11f0-8d52-e27021d78ca7\").setAttribute(\"src\", \"http://\" + document.location.hostname + \":8080/snakeviz/%2Fvar%2Ffolders%2Ff2%2F1t0v91053vvbyc7r7gdgkjg40000gn%2FT%2Ftmp9qri3sz6\")</script>\n"
      ]
     },
     "metadata": {},
     "output_type": "display_data"
    },
    {
     "data": {
      "text/plain": [
       "[612448,\n",
       " 379279,\n",
       " 390187,\n",
       " 588287,\n",
       " 840250,\n",
       " 423207,\n",
       " 686193,\n",
       " 670757,\n",
       " 870622,\n",
       " 460996,\n",
       " 266506,\n",
       " 289614,\n",
       " 361772,\n",
       " 192524]"
      ]
     },
     "execution_count": 6,
     "metadata": {},
     "output_type": "execute_result"
    }
   ],
   "execution_count": 6
  },
  {
   "metadata": {},
   "cell_type": "code",
   "outputs": [],
   "execution_count": null,
   "source": "",
   "id": "fbfcf29cb007648e"
  }
 ],
 "metadata": {
  "kernelspec": {
   "display_name": "Python 3",
   "language": "python",
   "name": "python3"
  },
  "language_info": {
   "codemirror_mode": {
    "name": "ipython",
    "version": 2
   },
   "file_extension": ".py",
   "mimetype": "text/x-python",
   "name": "python",
   "nbconvert_exporter": "python",
   "pygments_lexer": "ipython2",
   "version": "2.7.6"
  }
 },
 "nbformat": 4,
 "nbformat_minor": 5
}
