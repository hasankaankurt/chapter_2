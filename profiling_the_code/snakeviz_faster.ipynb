{
 "cells": [
  {
   "cell_type": "code",
   "id": "initial_id",
   "metadata": {
    "collapsed": true,
    "ExecuteTime": {
     "end_time": "2025-03-31T17:07:28.584684Z",
     "start_time": "2025-03-31T17:07:28.509483Z"
    }
   },
   "source": [
    "from collections import Counter\n",
    "import numpy as np\n",
    "random_integers = np.random.randint(1, 1_000_000, 1_000_000)\n",
    "\n",
    "def mode_using_counter(list_of_numbers):\n",
    "    c = Counter(list_of_numbers)\n",
    "    return c.most_common(1)[0][0]"
   ],
   "outputs": [],
   "execution_count": 1
  },
  {
   "metadata": {
    "ExecuteTime": {
     "end_time": "2025-03-31T17:07:48.278522Z",
     "start_time": "2025-03-31T17:07:44.738886Z"
    }
   },
   "cell_type": "code",
   "source": [
    "%reload_ext snakeviz\n",
    "\n",
    "%snakeviz\n",
    "mode_using_counter(random_integers)"
   ],
   "id": "65e7d2d2b7961f89",
   "outputs": [
    {
     "name": "stdout",
     "output_type": "stream",
     "text": [
      " \n",
      "*** Profile stats marshalled to file '/var/folders/f2/1t0v91053vvbyc7r7gdgkjg40000gn/T/tmptqdwry2l'.\n",
      "Embedding SnakeViz in this document...\n",
      "<function display at 0x102d756c0>\n"
     ]
    },
    {
     "data": {
      "text/plain": [
       "<IPython.core.display.HTML object>"
      ],
      "text/html": [
       "\n",
       "<iframe id='snakeviz-aa0553f0-0e52-11f0-87e4-e27021d78ca7' frameborder=0 seamless width='100%' height='1000'></iframe>\n",
       "<script>document.getElementById(\"snakeviz-aa0553f0-0e52-11f0-87e4-e27021d78ca7\").setAttribute(\"src\", \"http://\" + document.location.hostname + \":8080/snakeviz/%2Fvar%2Ffolders%2Ff2%2F1t0v91053vvbyc7r7gdgkjg40000gn%2FT%2Ftmptqdwry2l\")</script>\n"
      ]
     },
     "metadata": {},
     "output_type": "display_data"
    },
    {
     "data": {
      "text/plain": [
       "833339"
      ]
     },
     "execution_count": 2,
     "metadata": {},
     "output_type": "execute_result"
    }
   ],
   "execution_count": 2
  },
  {
   "metadata": {},
   "cell_type": "code",
   "outputs": [],
   "execution_count": null,
   "source": "",
   "id": "67a64fd4a7e43b23"
  }
 ],
 "metadata": {
  "kernelspec": {
   "display_name": "Python 3",
   "language": "python",
   "name": "python3"
  },
  "language_info": {
   "codemirror_mode": {
    "name": "ipython",
    "version": 2
   },
   "file_extension": ".py",
   "mimetype": "text/x-python",
   "name": "python",
   "nbconvert_exporter": "python",
   "pygments_lexer": "ipython2",
   "version": "2.7.6"
  }
 },
 "nbformat": 4,
 "nbformat_minor": 5
}
